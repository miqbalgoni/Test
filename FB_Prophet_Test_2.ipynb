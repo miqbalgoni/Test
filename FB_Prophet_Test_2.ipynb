{
 "cells": [
  {
   "cell_type": "code",
   "execution_count": null,
   "metadata": {},
   "outputs": [],
   "source": [
    "#This is taken from work of Dan Lantos\n",
    "#https://www.advancinganalytics.co.uk/blog/2021/07/05/facebook-prophet-and-the-stock-market-part-1\n",
    "#   Facebook Prophet and the Stock Market (Part 1)"
   ]
  },
  {
   "cell_type": "code",
   "execution_count": null,
   "metadata": {},
   "outputs": [],
   "source": [
    "# Pandas for pandas dataframe operations.\n",
    "import pandas as pd\n",
    "# NumPy package for numeric operations.\n",
    "import numpy as np\n",
    "# Prophet package used for forecasting.\n",
    "from fbprophet import Prophet\n",
    "# Prophet diagnostics for rolling cross-validation.\n",
    "from fbprophet.diagnostics import cross_validation\n",
    "from fbprophet.diagnostics import performance_metrics\n",
    "from fbprophet.plot import plot_cross_validation_metric\n",
    "# yfinance package used to import dataset.\n",
    "import yfinance as yf\n",
    "# Datetime package used for date functions.\n",
    "from datetime import datetime, timedelta\n",
    "# Matplotlib package used for altering default plots.\n",
    "import matplotlib.pyplot as plt\n",
    "import matplotlib.lines as lines\n",
    "%matplotlib inline  \n",
    "# Plotly package used for candlestick charts.\n",
    "import plotly.graph_objects as go\n"
   ]
  },
  {
   "cell_type": "code",
   "execution_count": null,
   "metadata": {},
   "outputs": [],
   "source": [
    "# Logging package used to remove logging output.\n",
    "import logging\n",
    "# Command to remove logging messages from Prophet calls.\n",
    "logging.getLogger(\"py4j\").setLevel(logging.ERROR)"
   ]
  },
  {
   "cell_type": "code",
   "execution_count": null,
   "metadata": {},
   "outputs": [],
   "source": [
    "# Select up to yesterday's close - as \"close\" today is current price if the market hasn't closed.\n",
    "today = datetime.now() - timedelta( days = 1 )"
   ]
  },
  {
   "cell_type": "code",
   "execution_count": null,
   "metadata": {},
   "outputs": [],
   "source": [
    "# Pull information for the FTSE100 index \"ticker\".\n",
    "ftse = yf.Ticker( \"^NSEI\" )\n",
    "ftse_df = ftse.history( start = '2016-01-01', end = today )"
   ]
  },
  {
   "cell_type": "code",
   "execution_count": null,
   "metadata": {},
   "outputs": [],
   "source": [
    "# Inspect the dataframe.\n",
    "ftse_df.head()"
   ]
  },
  {
   "cell_type": "code",
   "execution_count": null,
   "metadata": {},
   "outputs": [],
   "source": [
    "# Reset the index to use it as our x variable.\n",
    "ftse_df.reset_index( inplace=True )\n",
    "# Create a candlestick chart of the dataset using plotly.graph_objects.\n",
    "candlestick = go.Figure( data = [go.Candlestick( x = ftse_df['Date'],\n",
    "                                                 open = ftse_df['Open'],\n",
    "                                                 high = ftse_df['High'],\n",
    "                                                 low = ftse_df['Low'],\n",
    "                                                 close = ftse_df['Close']\n",
    "                                               ) ] )"
   ]
  },
  {
   "cell_type": "code",
   "execution_count": null,
   "metadata": {},
   "outputs": [],
   "source": [
    "# Show the figure.\n",
    "candlestick.update_xaxes( title_text = 'Date' )\n",
    "candlestick.update_yaxes( title_text = 'FTSE 100 Index' )\n",
    "candlestick.show()\n"
   ]
  },
  {
   "cell_type": "code",
   "execution_count": null,
   "metadata": {},
   "outputs": [],
   "source": [
    "# Select only the 2 columns we want, and rename them appropriately to be passed to Facebook Prophet.\n",
    "ftse_prophet = ftse_df[['Date','Close']].rename( columns = {'Date':'ds','Close': 'y'} )"
   ]
  },
  {
   "cell_type": "code",
   "execution_count": null,
   "metadata": {},
   "outputs": [],
   "source": [
    "# Inspect the new dataframe.\n",
    "ftse_prophet.head()"
   ]
  },
  {
   "cell_type": "code",
   "execution_count": null,
   "metadata": {},
   "outputs": [],
   "source": []
  },
  {
   "cell_type": "code",
   "execution_count": null,
   "metadata": {},
   "outputs": [],
   "source": [
    "# Specify a cutoff day range.\n",
    "days = 60\n",
    "\n",
    "# Create a cutoff date using the days value.\n",
    "today = datetime.now()\n",
    "cutoff_date = today - timedelta( days )"
   ]
  },
  {
   "cell_type": "code",
   "execution_count": null,
   "metadata": {},
   "outputs": [],
   "source": [
    "# Use cutoff_date to split our dataset to history and actuals, which we will use to validate the model. \n",
    "history_df = ftse_prophet[ ftse_prophet['ds'] <= cutoff_date ]\n",
    "actuals_df = ftse_prophet[ ftse_prophet['ds'] > cutoff_date ]"
   ]
  },
  {
   "cell_type": "code",
   "execution_count": null,
   "metadata": {},
   "outputs": [],
   "source": [
    "# Define the model - passing no hyperparameters results in a default model being created.\n",
    "# This is bad practice in reality, but great for showing how simple Prophet is \"out of the box\".\n",
    "model = Prophet()\n",
    "\n",
    "# Fit the model to our history dataset.\n",
    "model.fit( history_df )"
   ]
  },
  {
   "cell_type": "code",
   "execution_count": null,
   "metadata": {},
   "outputs": [],
   "source": [
    "# Create a future dataframe using Prophet's functon make_future_dataframe.\n",
    "# Remove any non-trading (or similar days) not found in the base dataframe.\n",
    "future_df = model.make_future_dataframe( periods = days, freq ='d', include_history = True )\n",
    "future_df = future_df[ future_df['ds'].isin( ftse_prophet['ds'] ) ]"
   ]
  },
  {
   "cell_type": "code",
   "execution_count": null,
   "metadata": {},
   "outputs": [],
   "source": [
    "# Use the model to predict values for our test dataset.\n",
    "forecast_df = model.predict( future_df )\n",
    "\n",
    "# Plot the predictions, and overlay our actuals.\n",
    "fig = model.plot( forecast_df )\n",
    "ax = fig.gca()\n",
    "ax.plot( actuals_df[\"ds\"], actuals_df[\"y\"], 'k.', color = \"r\" )\n",
    "ax.set_xlim( [ datetime( 2019, 1, 1 ), today ] )"
   ]
  },
  {
   "cell_type": "code",
   "execution_count": null,
   "metadata": {},
   "outputs": [],
   "source": []
  },
  {
   "cell_type": "code",
   "execution_count": null,
   "metadata": {},
   "outputs": [],
   "source": [
    "# Define a function to calculate the Mean Absolute Percentage Error (MAPE) - user friendly error metric.\n",
    "def mape( actuals, forecast ):\n",
    "  x = 0\n",
    "  for i in range( actuals.index.min(), actuals.index.max()+1 ):\n",
    "    x += np.abs( ( actuals[i] - forecast[i] ) / actuals[i] )\n",
    "  return x / len( actuals )"
   ]
  },
  {
   "cell_type": "code",
   "execution_count": null,
   "metadata": {},
   "outputs": [],
   "source": [
    "# Ensure out dataframes have only corresponding entries.\n",
    "forecast = forecast_df[ forecast_df['ds'].isin( actuals_df['ds'] ) ]\n",
    "actuals = actuals_df[ actuals_df['ds'].isin( forecast['ds'] ) ]\n",
    "print(type(forecast))\n",
    "# Use our MAPE function to evaluate the success of our 60 day forecast.\n",
    "mape_res = round( 100 * mape( actuals['y'], forecast['yhat'] ), 2 )\n",
    "print( 'Forecast MAPE: ', mape_res )"
   ]
  },
  {
   "cell_type": "code",
   "execution_count": null,
   "metadata": {},
   "outputs": [],
   "source": []
  },
  {
   "cell_type": "code",
   "execution_count": null,
   "metadata": {},
   "outputs": [],
   "source": [
    "# Apply cross-validation on our model. This creates a forecast, for 180 days ahead, every 90 days, with 3 years of initial training data.\n",
    "# As we have 5.5 years of data, this results in 8 forecasts (1 every quarter of a year, starting from 3 years -> 5 years).\n",
    "crossv_df = cross_validation( model, initial = '1095 days', period = '90 days', horizon = '180 days' )\n",
    "\n",
    "perf_df = performance_metrics( crossv_df )\n",
    "\n",
    "# Use prophet's plot_cross_validation_metric to visualise the MAPE as the horizon increases.\n",
    "fig = plot_cross_validation_metric( crossv_df, metric = 'mape')#, color='red' )\n",
    "\n",
    "# Evaluate the mean MAPE for our forecasts.\n",
    "crossv_mape = round( 100 * perf_df['mape'].mean(), 2 )\n",
    "print( f'Cross validation MAPE: %s' % crossv_mape )"
   ]
  },
  {
   "cell_type": "code",
   "execution_count": null,
   "metadata": {},
   "outputs": [],
   "source": []
  }
 ],
 "metadata": {
  "kernelspec": {
   "display_name": "Python 3",
   "language": "python",
   "name": "python3"
  },
  "language_info": {
   "codemirror_mode": {
    "name": "ipython",
    "version": 3
   },
   "file_extension": ".py",
   "mimetype": "text/x-python",
   "name": "python",
   "nbconvert_exporter": "python",
   "pygments_lexer": "ipython3",
   "version": "3.8.5"
  }
 },
 "nbformat": 4,
 "nbformat_minor": 4
}

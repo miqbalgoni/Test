{
 "cells": [
  {
   "cell_type": "markdown",
   "metadata": {},
   "source": [
    "<img src=\"https://certificate.tpq.io/taim_logo.png\" width=\"350px\" align=\"right\">"
   ]
  },
  {
   "cell_type": "markdown",
   "metadata": {},
   "source": [
    "# Artificial Intelligence in Finance"
   ]
  },
  {
   "cell_type": "markdown",
   "metadata": {},
   "source": [
    "## Dense Neural Networks"
   ]
  },
  {
   "cell_type": "markdown",
   "metadata": {},
   "source": [
    "Dr Yves J Hilpisch | The AI Machine\n",
    "\n",
    "http://aimachine.io | http://twitter.com/dyjh"
   ]
  },
  {
   "cell_type": "code",
   "execution_count": 1,
   "metadata": {},
   "outputs": [],
   "source": [
    "import os\n",
    "import numpy as np\n",
    "import pandas as pd\n",
    "from pylab import plt, mpl\n",
    "plt.style.use('seaborn')\n",
    "mpl.rcParams['savefig.dpi'] = 300\n",
    "mpl.rcParams['font.family'] = 'serif'\n",
    "pd.set_option('precision', 4)\n",
    "np.set_printoptions(suppress=True, precision=4)\n",
    "os.environ['PYTHONHASHSEED'] = '0'"
   ]
  },
  {
   "cell_type": "markdown",
   "metadata": {},
   "source": [
    "## The Data"
   ]
  },
  {
   "cell_type": "code",
   "execution_count": 2,
   "metadata": {},
   "outputs": [],
   "source": [
    "url = 'http://hilpisch.com/aiif_eikon_id_eur_usd.csv'"
   ]
  },
  {
   "cell_type": "code",
   "execution_count": 3,
   "metadata": {},
   "outputs": [],
   "source": [
    "symbol = 'EUR_USD'"
   ]
  },
  {
   "cell_type": "code",
   "execution_count": 4,
   "metadata": {},
   "outputs": [],
   "source": [
    "raw = pd.read_csv(url, index_col=0, parse_dates=True)"
   ]
  },
  {
   "cell_type": "code",
   "execution_count": 5,
   "metadata": {},
   "outputs": [
    {
     "data": {
      "text/html": [
       "<div>\n",
       "<style scoped>\n",
       "    .dataframe tbody tr th:only-of-type {\n",
       "        vertical-align: middle;\n",
       "    }\n",
       "\n",
       "    .dataframe tbody tr th {\n",
       "        vertical-align: top;\n",
       "    }\n",
       "\n",
       "    .dataframe thead th {\n",
       "        text-align: right;\n",
       "    }\n",
       "</style>\n",
       "<table border=\"1\" class=\"dataframe\">\n",
       "  <thead>\n",
       "    <tr style=\"text-align: right;\">\n",
       "      <th></th>\n",
       "      <th>HIGH</th>\n",
       "      <th>LOW</th>\n",
       "      <th>OPEN</th>\n",
       "      <th>CLOSE</th>\n",
       "    </tr>\n",
       "    <tr>\n",
       "      <th>Date</th>\n",
       "      <th></th>\n",
       "      <th></th>\n",
       "      <th></th>\n",
       "      <th></th>\n",
       "    </tr>\n",
       "  </thead>\n",
       "  <tbody>\n",
       "    <tr>\n",
       "      <th>2019-10-01 00:00:00</th>\n",
       "      <td>1.0899</td>\n",
       "      <td>1.0897</td>\n",
       "      <td>1.0897</td>\n",
       "      <td>1.0899</td>\n",
       "    </tr>\n",
       "    <tr>\n",
       "      <th>2019-10-01 00:01:00</th>\n",
       "      <td>1.0899</td>\n",
       "      <td>1.0896</td>\n",
       "      <td>1.0899</td>\n",
       "      <td>1.0898</td>\n",
       "    </tr>\n",
       "    <tr>\n",
       "      <th>2019-10-01 00:02:00</th>\n",
       "      <td>1.0898</td>\n",
       "      <td>1.0896</td>\n",
       "      <td>1.0898</td>\n",
       "      <td>1.0896</td>\n",
       "    </tr>\n",
       "    <tr>\n",
       "      <th>2019-10-01 00:03:00</th>\n",
       "      <td>1.0898</td>\n",
       "      <td>1.0896</td>\n",
       "      <td>1.0897</td>\n",
       "      <td>1.0898</td>\n",
       "    </tr>\n",
       "    <tr>\n",
       "      <th>2019-10-01 00:04:00</th>\n",
       "      <td>1.0898</td>\n",
       "      <td>1.0896</td>\n",
       "      <td>1.0897</td>\n",
       "      <td>1.0898</td>\n",
       "    </tr>\n",
       "  </tbody>\n",
       "</table>\n",
       "</div>"
      ],
      "text/plain": [
       "                       HIGH     LOW    OPEN   CLOSE\n",
       "Date                                               \n",
       "2019-10-01 00:00:00  1.0899  1.0897  1.0897  1.0899\n",
       "2019-10-01 00:01:00  1.0899  1.0896  1.0899  1.0898\n",
       "2019-10-01 00:02:00  1.0898  1.0896  1.0898  1.0896\n",
       "2019-10-01 00:03:00  1.0898  1.0896  1.0897  1.0898\n",
       "2019-10-01 00:04:00  1.0898  1.0896  1.0897  1.0898"
      ]
     },
     "execution_count": 5,
     "metadata": {},
     "output_type": "execute_result"
    }
   ],
   "source": [
    "raw.head()"
   ]
  },
  {
   "cell_type": "code",
   "execution_count": 6,
   "metadata": {},
   "outputs": [
    {
     "name": "stdout",
     "output_type": "stream",
     "text": [
      "<class 'pandas.core.frame.DataFrame'>\n",
      "DatetimeIndex: 96526 entries, 2019-10-01 00:00:00 to 2019-12-31 23:06:00\n",
      "Data columns (total 4 columns):\n",
      " #   Column  Non-Null Count  Dtype  \n",
      "---  ------  --------------  -----  \n",
      " 0   HIGH    96526 non-null  float64\n",
      " 1   LOW     96526 non-null  float64\n",
      " 2   OPEN    96526 non-null  float64\n",
      " 3   CLOSE   96526 non-null  float64\n",
      "dtypes: float64(4)\n",
      "memory usage: 3.7 MB\n"
     ]
    }
   ],
   "source": [
    "raw.info()"
   ]
  },
  {
   "cell_type": "code",
   "execution_count": 7,
   "metadata": {},
   "outputs": [],
   "source": [
    "data = pd.DataFrame(raw['CLOSE'].loc[:])\n",
    "data.columns = [symbol]"
   ]
  },
  {
   "cell_type": "code",
   "execution_count": 10,
   "metadata": {},
   "outputs": [
    {
     "data": {
      "text/html": [
       "<div>\n",
       "<style scoped>\n",
       "    .dataframe tbody tr th:only-of-type {\n",
       "        vertical-align: middle;\n",
       "    }\n",
       "\n",
       "    .dataframe tbody tr th {\n",
       "        vertical-align: top;\n",
       "    }\n",
       "\n",
       "    .dataframe thead th {\n",
       "        text-align: right;\n",
       "    }\n",
       "</style>\n",
       "<table border=\"1\" class=\"dataframe\">\n",
       "  <thead>\n",
       "    <tr style=\"text-align: right;\">\n",
       "      <th></th>\n",
       "      <th>EUR_USD</th>\n",
       "    </tr>\n",
       "    <tr>\n",
       "      <th>Date</th>\n",
       "      <th></th>\n",
       "    </tr>\n",
       "  </thead>\n",
       "  <tbody>\n",
       "    <tr>\n",
       "      <th>2019-12-31 21:00:00</th>\n",
       "      <td>1.1216</td>\n",
       "    </tr>\n",
       "    <tr>\n",
       "      <th>2019-12-31 22:00:00</th>\n",
       "      <td>1.1215</td>\n",
       "    </tr>\n",
       "    <tr>\n",
       "      <th>2019-12-31 23:00:00</th>\n",
       "      <td>1.1208</td>\n",
       "    </tr>\n",
       "    <tr>\n",
       "      <th>2020-01-01 00:00:00</th>\n",
       "      <td>1.1211</td>\n",
       "    </tr>\n",
       "    <tr>\n",
       "      <th>2020-01-01 01:00:00</th>\n",
       "      <td>1.1211</td>\n",
       "    </tr>\n",
       "  </tbody>\n",
       "</table>\n",
       "</div>"
      ],
      "text/plain": [
       "                     EUR_USD\n",
       "Date                        \n",
       "2019-12-31 21:00:00   1.1216\n",
       "2019-12-31 22:00:00   1.1215\n",
       "2019-12-31 23:00:00   1.1208\n",
       "2020-01-01 00:00:00   1.1211\n",
       "2020-01-01 01:00:00   1.1211"
      ]
     },
     "execution_count": 10,
     "metadata": {},
     "output_type": "execute_result"
    }
   ],
   "source": [
    "data = data.resample('1h', label='right').last().ffill()\n",
    "data.tail()"
   ]
  },
  {
   "cell_type": "code",
   "execution_count": 11,
   "metadata": {},
   "outputs": [
    {
     "name": "stdout",
     "output_type": "stream",
     "text": [
      "<class 'pandas.core.frame.DataFrame'>\n",
      "DatetimeIndex: 2208 entries, 2019-10-01 02:00:00 to 2020-01-01 01:00:00\n",
      "Freq: H\n",
      "Data columns (total 1 columns):\n",
      " #   Column   Non-Null Count  Dtype  \n",
      "---  ------   --------------  -----  \n",
      " 0   EUR_USD  2208 non-null   float64\n",
      "dtypes: float64(1)\n",
      "memory usage: 34.5 KB\n"
     ]
    }
   ],
   "source": [
    "data.info()"
   ]
  },
  {
   "cell_type": "code",
   "execution_count": 12,
   "metadata": {},
   "outputs": [
    {
     "data": {
      "image/png": "[encoded data removed]",
      "text/plain": [
       "<Figure size 720x432 with 1 Axes>"
      ]
     },
     "metadata": {},
     "output_type": "display_data"
    }
   ],
   "source": [
    "data.plot(figsize=(10, 6));"
   ]
  },
  {
   "cell_type": "markdown",
   "metadata": {},
   "source": [
    "## Baseline Prediction"
   ]
  },
  {
   "cell_type": "code",
   "execution_count": 13,
   "metadata": {},
   "outputs": [],
   "source": [
    "lags = 5"
   ]
  },
  {
   "cell_type": "code",
   "execution_count": 14,
   "metadata": {},
   "outputs": [],
   "source": [
    "def add_lags(data, symbol, lags, window=20):\n",
    "    cols = []\n",
    "    df = data.copy()\n",
    "    df.dropna(inplace=True)\n",
    "    df['r'] = np.log(df / df.shift())\n",
    "    df['sma'] = df[symbol].rolling(window).mean()\n",
    "    df['min'] = df[symbol].rolling(window).min()\n",
    "    df['max'] = df[symbol].rolling(window).max()\n",
    "    df['mom'] = df['r'].rolling(window).mean()\n",
    "    df['vol'] = df['r'].rolling(window).std()\n",
    "    df.dropna(inplace=True)\n",
    "    df['d'] = np.where(df['r'] > 0, 1, 0)\n",
    "    features = [symbol, 'r', 'd', 'sma', 'min', 'max', 'mom', 'vol']\n",
    "    for f in features:\n",
    "        for lag in range(1, lags + 1):\n",
    "            col = f'{f}_lag_{lag}'\n",
    "            df[col] = df[f].shift(lag)\n",
    "            cols.append(col)\n",
    "    df.dropna(inplace=True)\n",
    "    return df, cols"
   ]
  },
  {
   "cell_type": "code",
   "execution_count": 15,
   "metadata": {},
   "outputs": [],
   "source": [
    "data, cols = add_lags(data, symbol, lags)"
   ]
  },
  {
   "cell_type": "code",
   "execution_count": 19,
   "metadata": {},
   "outputs": [
    {
     "data": {
      "text/html": [
       "<div>\n",
       "<style scoped>\n",
       "    .dataframe tbody tr th:only-of-type {\n",
       "        vertical-align: middle;\n",
       "    }\n",
       "\n",
       "    .dataframe tbody tr th {\n",
       "        vertical-align: top;\n",
       "    }\n",
       "\n",
       "    .dataframe thead th {\n",
       "        text-align: right;\n",
       "    }\n",
       "</style>\n",
       "<table border=\"1\" class=\"dataframe\">\n",
       "  <thead>\n",
       "    <tr style=\"text-align: right;\">\n",
       "      <th></th>\n",
       "      <th>EUR_USD</th>\n",
       "      <th>r</th>\n",
       "      <th>sma</th>\n",
       "      <th>min</th>\n",
       "      <th>max</th>\n",
       "      <th>mom</th>\n",
       "      <th>vol</th>\n",
       "      <th>d</th>\n",
       "      <th>EUR_USD_lag_1</th>\n",
       "      <th>EUR_USD_lag_2</th>\n",
       "      <th>...</th>\n",
       "      <th>mom_lag_1</th>\n",
       "      <th>mom_lag_2</th>\n",
       "      <th>mom_lag_3</th>\n",
       "      <th>mom_lag_4</th>\n",
       "      <th>mom_lag_5</th>\n",
       "      <th>vol_lag_1</th>\n",
       "      <th>vol_lag_2</th>\n",
       "      <th>vol_lag_3</th>\n",
       "      <th>vol_lag_4</th>\n",
       "      <th>vol_lag_5</th>\n",
       "    </tr>\n",
       "    <tr>\n",
       "      <th>Date</th>\n",
       "      <th></th>\n",
       "      <th></th>\n",
       "      <th></th>\n",
       "      <th></th>\n",
       "      <th></th>\n",
       "      <th></th>\n",
       "      <th></th>\n",
       "      <th></th>\n",
       "      <th></th>\n",
       "      <th></th>\n",
       "      <th></th>\n",
       "      <th></th>\n",
       "      <th></th>\n",
       "      <th></th>\n",
       "      <th></th>\n",
       "      <th></th>\n",
       "      <th></th>\n",
       "      <th></th>\n",
       "      <th></th>\n",
       "      <th></th>\n",
       "      <th></th>\n",
       "    </tr>\n",
       "  </thead>\n",
       "  <tbody>\n",
       "    <tr>\n",
       "      <th>2019-10-02 03:00:00</th>\n",
       "      <td>1.0937</td>\n",
       "      <td>-9.1429e-05</td>\n",
       "      <td>1.0916</td>\n",
       "      <td>1.0879</td>\n",
       "      <td>1.0938</td>\n",
       "      <td>2.2911e-04</td>\n",
       "      <td>0.0008</td>\n",
       "      <td>0</td>\n",
       "      <td>1.0938</td>\n",
       "      <td>1.0932</td>\n",
       "      <td>...</td>\n",
       "      <td>2.2449e-04</td>\n",
       "      <td>2.0165e-04</td>\n",
       "      <td>2.0626e-04</td>\n",
       "      <td>1.8789e-04</td>\n",
       "      <td>1.6035e-04</td>\n",
       "      <td>0.0008</td>\n",
       "      <td>0.0008</td>\n",
       "      <td>0.0008</td>\n",
       "      <td>0.0008</td>\n",
       "      <td>0.0008</td>\n",
       "    </tr>\n",
       "    <tr>\n",
       "      <th>2019-10-02 04:00:00</th>\n",
       "      <td>1.0937</td>\n",
       "      <td>0.0000e+00</td>\n",
       "      <td>1.0918</td>\n",
       "      <td>1.0885</td>\n",
       "      <td>1.0938</td>\n",
       "      <td>2.6586e-04</td>\n",
       "      <td>0.0008</td>\n",
       "      <td>0</td>\n",
       "      <td>1.0937</td>\n",
       "      <td>1.0938</td>\n",
       "      <td>...</td>\n",
       "      <td>2.2911e-04</td>\n",
       "      <td>2.2449e-04</td>\n",
       "      <td>2.0165e-04</td>\n",
       "      <td>2.0626e-04</td>\n",
       "      <td>1.8789e-04</td>\n",
       "      <td>0.0008</td>\n",
       "      <td>0.0008</td>\n",
       "      <td>0.0008</td>\n",
       "      <td>0.0008</td>\n",
       "      <td>0.0008</td>\n",
       "    </tr>\n",
       "    <tr>\n",
       "      <th>2019-10-02 05:00:00</th>\n",
       "      <td>1.0936</td>\n",
       "      <td>-9.1437e-05</td>\n",
       "      <td>1.0921</td>\n",
       "      <td>1.0886</td>\n",
       "      <td>1.0938</td>\n",
       "      <td>2.3372e-04</td>\n",
       "      <td>0.0008</td>\n",
       "      <td>0</td>\n",
       "      <td>1.0937</td>\n",
       "      <td>1.0937</td>\n",
       "      <td>...</td>\n",
       "      <td>2.6586e-04</td>\n",
       "      <td>2.2911e-04</td>\n",
       "      <td>2.2449e-04</td>\n",
       "      <td>2.0165e-04</td>\n",
       "      <td>2.0626e-04</td>\n",
       "      <td>0.0008</td>\n",
       "      <td>0.0008</td>\n",
       "      <td>0.0008</td>\n",
       "      <td>0.0008</td>\n",
       "      <td>0.0008</td>\n",
       "    </tr>\n",
       "    <tr>\n",
       "      <th>2019-10-02 06:00:00</th>\n",
       "      <td>1.0933</td>\n",
       "      <td>-2.7436e-04</td>\n",
       "      <td>1.0923</td>\n",
       "      <td>1.0886</td>\n",
       "      <td>1.0938</td>\n",
       "      <td>1.8786e-04</td>\n",
       "      <td>0.0008</td>\n",
       "      <td>0</td>\n",
       "      <td>1.0936</td>\n",
       "      <td>1.0937</td>\n",
       "      <td>...</td>\n",
       "      <td>2.3372e-04</td>\n",
       "      <td>2.6586e-04</td>\n",
       "      <td>2.2911e-04</td>\n",
       "      <td>2.2449e-04</td>\n",
       "      <td>2.0165e-04</td>\n",
       "      <td>0.0008</td>\n",
       "      <td>0.0008</td>\n",
       "      <td>0.0008</td>\n",
       "      <td>0.0008</td>\n",
       "      <td>0.0008</td>\n",
       "    </tr>\n",
       "    <tr>\n",
       "      <th>2019-10-02 07:00:00</th>\n",
       "      <td>1.0935</td>\n",
       "      <td>1.8292e-04</td>\n",
       "      <td>1.0925</td>\n",
       "      <td>1.0886</td>\n",
       "      <td>1.0938</td>\n",
       "      <td>1.9700e-04</td>\n",
       "      <td>0.0008</td>\n",
       "      <td>1</td>\n",
       "      <td>1.0933</td>\n",
       "      <td>1.0936</td>\n",
       "      <td>...</td>\n",
       "      <td>1.8786e-04</td>\n",
       "      <td>2.3372e-04</td>\n",
       "      <td>2.6586e-04</td>\n",
       "      <td>2.2911e-04</td>\n",
       "      <td>2.2449e-04</td>\n",
       "      <td>0.0008</td>\n",
       "      <td>0.0008</td>\n",
       "      <td>0.0008</td>\n",
       "      <td>0.0008</td>\n",
       "      <td>0.0008</td>\n",
       "    </tr>\n",
       "    <tr>\n",
       "      <th>...</th>\n",
       "      <td>...</td>\n",
       "      <td>...</td>\n",
       "      <td>...</td>\n",
       "      <td>...</td>\n",
       "      <td>...</td>\n",
       "      <td>...</td>\n",
       "      <td>...</td>\n",
       "      <td>...</td>\n",
       "      <td>...</td>\n",
       "      <td>...</td>\n",
       "      <td>...</td>\n",
       "      <td>...</td>\n",
       "      <td>...</td>\n",
       "      <td>...</td>\n",
       "      <td>...</td>\n",
       "      <td>...</td>\n",
       "      <td>...</td>\n",
       "      <td>...</td>\n",
       "      <td>...</td>\n",
       "      <td>...</td>\n",
       "      <td>...</td>\n",
       "    </tr>\n",
       "    <tr>\n",
       "      <th>2019-12-31 21:00:00</th>\n",
       "      <td>1.1216</td>\n",
       "      <td>-5.3481e-04</td>\n",
       "      <td>1.1216</td>\n",
       "      <td>1.1201</td>\n",
       "      <td>1.1238</td>\n",
       "      <td>4.9061e-05</td>\n",
       "      <td>0.0006</td>\n",
       "      <td>0</td>\n",
       "      <td>1.1222</td>\n",
       "      <td>1.1226</td>\n",
       "      <td>...</td>\n",
       "      <td>9.8118e-05</td>\n",
       "      <td>1.0255e-04</td>\n",
       "      <td>1.2935e-04</td>\n",
       "      <td>1.0258e-04</td>\n",
       "      <td>7.1371e-05</td>\n",
       "      <td>0.0006</td>\n",
       "      <td>0.0006</td>\n",
       "      <td>0.0006</td>\n",
       "      <td>0.0007</td>\n",
       "      <td>0.0007</td>\n",
       "    </tr>\n",
       "    <tr>\n",
       "      <th>2019-12-31 22:00:00</th>\n",
       "      <td>1.1215</td>\n",
       "      <td>-8.9162e-05</td>\n",
       "      <td>1.1216</td>\n",
       "      <td>1.1201</td>\n",
       "      <td>1.1238</td>\n",
       "      <td>3.5679e-05</td>\n",
       "      <td>0.0006</td>\n",
       "      <td>0</td>\n",
       "      <td>1.1216</td>\n",
       "      <td>1.1222</td>\n",
       "      <td>...</td>\n",
       "      <td>4.9061e-05</td>\n",
       "      <td>9.8118e-05</td>\n",
       "      <td>1.0255e-04</td>\n",
       "      <td>1.2935e-04</td>\n",
       "      <td>1.0258e-04</td>\n",
       "      <td>0.0006</td>\n",
       "      <td>0.0006</td>\n",
       "      <td>0.0006</td>\n",
       "      <td>0.0006</td>\n",
       "      <td>0.0007</td>\n",
       "    </tr>\n",
       "    <tr>\n",
       "      <th>2019-12-31 23:00:00</th>\n",
       "      <td>1.1208</td>\n",
       "      <td>-6.2436e-04</td>\n",
       "      <td>1.1216</td>\n",
       "      <td>1.1201</td>\n",
       "      <td>1.1238</td>\n",
       "      <td>-1.7841e-05</td>\n",
       "      <td>0.0007</td>\n",
       "      <td>0</td>\n",
       "      <td>1.1215</td>\n",
       "      <td>1.1216</td>\n",
       "      <td>...</td>\n",
       "      <td>3.5679e-05</td>\n",
       "      <td>4.9061e-05</td>\n",
       "      <td>9.8118e-05</td>\n",
       "      <td>1.0255e-04</td>\n",
       "      <td>1.2935e-04</td>\n",
       "      <td>0.0006</td>\n",
       "      <td>0.0006</td>\n",
       "      <td>0.0006</td>\n",
       "      <td>0.0006</td>\n",
       "      <td>0.0006</td>\n",
       "    </tr>\n",
       "    <tr>\n",
       "      <th>2020-01-01 00:00:00</th>\n",
       "      <td>1.1211</td>\n",
       "      <td>2.6763e-04</td>\n",
       "      <td>1.1216</td>\n",
       "      <td>1.1201</td>\n",
       "      <td>1.1238</td>\n",
       "      <td>8.9206e-06</td>\n",
       "      <td>0.0007</td>\n",
       "      <td>1</td>\n",
       "      <td>1.1208</td>\n",
       "      <td>1.1215</td>\n",
       "      <td>...</td>\n",
       "      <td>-1.7841e-05</td>\n",
       "      <td>3.5679e-05</td>\n",
       "      <td>4.9061e-05</td>\n",
       "      <td>9.8118e-05</td>\n",
       "      <td>1.0255e-04</td>\n",
       "      <td>0.0007</td>\n",
       "      <td>0.0006</td>\n",
       "      <td>0.0006</td>\n",
       "      <td>0.0006</td>\n",
       "      <td>0.0006</td>\n",
       "    </tr>\n",
       "    <tr>\n",
       "      <th>2020-01-01 01:00:00</th>\n",
       "      <td>1.1211</td>\n",
       "      <td>0.0000e+00</td>\n",
       "      <td>1.1216</td>\n",
       "      <td>1.1201</td>\n",
       "      <td>1.1238</td>\n",
       "      <td>1.7843e-05</td>\n",
       "      <td>0.0007</td>\n",
       "      <td>0</td>\n",
       "      <td>1.1211</td>\n",
       "      <td>1.1208</td>\n",
       "      <td>...</td>\n",
       "      <td>8.9206e-06</td>\n",
       "      <td>-1.7841e-05</td>\n",
       "      <td>3.5679e-05</td>\n",
       "      <td>4.9061e-05</td>\n",
       "      <td>9.8118e-05</td>\n",
       "      <td>0.0007</td>\n",
       "      <td>0.0007</td>\n",
       "      <td>0.0006</td>\n",
       "      <td>0.0006</td>\n",
       "      <td>0.0006</td>\n",
       "    </tr>\n",
       "  </tbody>\n",
       "</table>\n",
       "<p>2183 rows × 48 columns</p>\n",
       "</div>"
      ],
      "text/plain": [
       "                     EUR_USD           r     sma     min     max         mom  \\\n",
       "Date                                                                           \n",
       "2019-10-02 03:00:00   1.0937 -9.1429e-05  1.0916  1.0879  1.0938  2.2911e-04   \n",
       "2019-10-02 04:00:00   1.0937  0.0000e+00  1.0918  1.0885  1.0938  2.6586e-04   \n",
       "2019-10-02 05:00:00   1.0936 -9.1437e-05  1.0921  1.0886  1.0938  2.3372e-04   \n",
       "2019-10-02 06:00:00   1.0933 -2.7436e-04  1.0923  1.0886  1.0938  1.8786e-04   \n",
       "2019-10-02 07:00:00   1.0935  1.8292e-04  1.0925  1.0886  1.0938  1.9700e-04   \n",
       "...                      ...         ...     ...     ...     ...         ...   \n",
       "2019-12-31 21:00:00   1.1216 -5.3481e-04  1.1216  1.1201  1.1238  4.9061e-05   \n",
       "2019-12-31 22:00:00   1.1215 -8.9162e-05  1.1216  1.1201  1.1238  3.5679e-05   \n",
       "2019-12-31 23:00:00   1.1208 -6.2436e-04  1.1216  1.1201  1.1238 -1.7841e-05   \n",
       "2020-01-01 00:00:00   1.1211  2.6763e-04  1.1216  1.1201  1.1238  8.9206e-06   \n",
       "2020-01-01 01:00:00   1.1211  0.0000e+00  1.1216  1.1201  1.1238  1.7843e-05   \n",
       "\n",
       "                        vol  d  EUR_USD_lag_1  EUR_USD_lag_2  ...   mom_lag_1  \\\n",
       "Date                                                          ...               \n",
       "2019-10-02 03:00:00  0.0008  0         1.0938         1.0932  ...  2.2449e-04   \n",
       "2019-10-02 04:00:00  0.0008  0         1.0937         1.0938  ...  2.2911e-04   \n",
       "2019-10-02 05:00:00  0.0008  0         1.0937         1.0937  ...  2.6586e-04   \n",
       "2019-10-02 06:00:00  0.0008  0         1.0936         1.0937  ...  2.3372e-04   \n",
       "2019-10-02 07:00:00  0.0008  1         1.0933         1.0936  ...  1.8786e-04   \n",
       "...                     ... ..            ...            ...  ...         ...   \n",
       "2019-12-31 21:00:00  0.0006  0         1.1222         1.1226  ...  9.8118e-05   \n",
       "2019-12-31 22:00:00  0.0006  0         1.1216         1.1222  ...  4.9061e-05   \n",
       "2019-12-31 23:00:00  0.0007  0         1.1215         1.1216  ...  3.5679e-05   \n",
       "2020-01-01 00:00:00  0.0007  1         1.1208         1.1215  ... -1.7841e-05   \n",
       "2020-01-01 01:00:00  0.0007  0         1.1211         1.1208  ...  8.9206e-06   \n",
       "\n",
       "                      mom_lag_2   mom_lag_3   mom_lag_4   mom_lag_5  \\\n",
       "Date                                                                  \n",
       "2019-10-02 03:00:00  2.0165e-04  2.0626e-04  1.8789e-04  1.6035e-04   \n",
       "2019-10-02 04:00:00  2.2449e-04  2.0165e-04  2.0626e-04  1.8789e-04   \n",
       "2019-10-02 05:00:00  2.2911e-04  2.2449e-04  2.0165e-04  2.0626e-04   \n",
       "2019-10-02 06:00:00  2.6586e-04  2.2911e-04  2.2449e-04  2.0165e-04   \n",
       "2019-10-02 07:00:00  2.3372e-04  2.6586e-04  2.2911e-04  2.2449e-04   \n",
       "...                         ...         ...         ...         ...   \n",
       "2019-12-31 21:00:00  1.0255e-04  1.2935e-04  1.0258e-04  7.1371e-05   \n",
       "2019-12-31 22:00:00  9.8118e-05  1.0255e-04  1.2935e-04  1.0258e-04   \n",
       "2019-12-31 23:00:00  4.9061e-05  9.8118e-05  1.0255e-04  1.2935e-04   \n",
       "2020-01-01 00:00:00  3.5679e-05  4.9061e-05  9.8118e-05  1.0255e-04   \n",
       "2020-01-01 01:00:00 -1.7841e-05  3.5679e-05  4.9061e-05  9.8118e-05   \n",
       "\n",
       "                     vol_lag_1  vol_lag_2  vol_lag_3  vol_lag_4  vol_lag_5  \n",
       "Date                                                                        \n",
       "2019-10-02 03:00:00     0.0008     0.0008     0.0008     0.0008     0.0008  \n",
       "2019-10-02 04:00:00     0.0008     0.0008     0.0008     0.0008     0.0008  \n",
       "2019-10-02 05:00:00     0.0008     0.0008     0.0008     0.0008     0.0008  \n",
       "2019-10-02 06:00:00     0.0008     0.0008     0.0008     0.0008     0.0008  \n",
       "2019-10-02 07:00:00     0.0008     0.0008     0.0008     0.0008     0.0008  \n",
       "...                        ...        ...        ...        ...        ...  \n",
       "2019-12-31 21:00:00     0.0006     0.0006     0.0006     0.0007     0.0007  \n",
       "2019-12-31 22:00:00     0.0006     0.0006     0.0006     0.0006     0.0007  \n",
       "2019-12-31 23:00:00     0.0006     0.0006     0.0006     0.0006     0.0006  \n",
       "2020-01-01 00:00:00     0.0007     0.0006     0.0006     0.0006     0.0006  \n",
       "2020-01-01 01:00:00     0.0007     0.0007     0.0006     0.0006     0.0006  \n",
       "\n",
       "[2183 rows x 48 columns]"
      ]
     },
     "execution_count": 19,
     "metadata": {},
     "output_type": "execute_result"
    }
   ],
   "source": [
    "data"
   ]
  },
  {
   "cell_type": "code",
   "execution_count": 16,
   "metadata": {},
   "outputs": [
    {
     "data": {
      "text/plain": [
       "2183"
      ]
     },
     "execution_count": 16,
     "metadata": {},
     "output_type": "execute_result"
    }
   ],
   "source": [
    "len(data)"
   ]
  },
  {
   "cell_type": "code",
   "execution_count": 17,
   "metadata": {},
   "outputs": [],
   "source": [
    "# data.iloc[:10, :14].round(4)"
   ]
  },
  {
   "cell_type": "code",
   "execution_count": 18,
   "metadata": {},
   "outputs": [
    {
     "data": {
      "text/plain": [
       "0    1445\n",
       "1     738\n",
       "Name: d, dtype: int64"
      ]
     },
     "execution_count": 18,
     "metadata": {},
     "output_type": "execute_result"
    }
   ],
   "source": [
    "c = data['d'].value_counts()\n",
    "c"
   ]
  },
  {
   "cell_type": "code",
   "execution_count": 21,
   "metadata": {},
   "outputs": [],
   "source": [
    "def cw(df):\n",
    "    c0, c1 = np.bincount(df['d'])\n",
    "    w0 = (1 / c0) * (len(df)) / 2\n",
    "    w1 = (1 / c1) * (len(df)) / 2\n",
    "    return {0: w0, 1: w1}"
   ]
  },
  {
   "cell_type": "code",
   "execution_count": 22,
   "metadata": {},
   "outputs": [],
   "source": [
    "class_weight = cw(data)"
   ]
  },
  {
   "cell_type": "code",
   "execution_count": 23,
   "metadata": {},
   "outputs": [
    {
     "data": {
      "text/plain": [
       "{0: 0.755363321799308, 1: 1.4789972899728998}"
      ]
     },
     "execution_count": 23,
     "metadata": {},
     "output_type": "execute_result"
    }
   ],
   "source": [
    "class_weight"
   ]
  },
  {
   "cell_type": "code",
   "execution_count": 24,
   "metadata": {},
   "outputs": [
    {
     "data": {
      "text/plain": [
       "1091.5"
      ]
     },
     "execution_count": 24,
     "metadata": {},
     "output_type": "execute_result"
    }
   ],
   "source": [
    "class_weight[0] * c[0]"
   ]
  },
  {
   "cell_type": "code",
   "execution_count": 25,
   "metadata": {},
   "outputs": [
    {
     "data": {
      "text/plain": [
       "1091.5"
      ]
     },
     "execution_count": 25,
     "metadata": {},
     "output_type": "execute_result"
    }
   ],
   "source": [
    "class_weight[1] * c[1]"
   ]
  },
  {
   "cell_type": "code",
   "execution_count": 28,
   "metadata": {},
   "outputs": [],
   "source": [
    "import random\n",
    "import logging\n",
    "import tensorflow as tf\n",
    "from keras.layers import Dense\n",
    "from keras.models import Sequential\n",
    "from tensorflow.keras.optimizers import Adam\n",
    "from sklearn.metrics import accuracy_score\n",
    "tf.get_logger().setLevel(logging.ERROR)"
   ]
  },
  {
   "cell_type": "code",
   "execution_count": 29,
   "metadata": {},
   "outputs": [],
   "source": [
    "def set_seeds(seed=100):\n",
    "    random.seed(seed)\n",
    "    np.random.seed(seed)\n",
    "    tf.random.set_seed(seed)"
   ]
  },
  {
   "cell_type": "code",
   "execution_count": 30,
   "metadata": {},
   "outputs": [
    {
     "name": "stderr",
     "output_type": "stream",
     "text": [
      "C:\\Users\\MIG\\anaconda3\\lib\\site-packages\\keras\\optimizer_v2\\adam.py:105: UserWarning: The `lr` argument is deprecated, use `learning_rate` instead.\n",
      "  super(Adam, self).__init__(name, **kwargs)\n"
     ]
    }
   ],
   "source": [
    "optimizer = Adam(lr=0.001)"
   ]
  },
  {
   "cell_type": "code",
   "execution_count": 31,
   "metadata": {},
   "outputs": [],
   "source": [
    "def create_model(hl=1, hu=128, optimizer=optimizer):\n",
    "    model = Sequential()\n",
    "    model.add(Dense(hu, input_dim=len(cols),\n",
    "                    activation='relu'))\n",
    "    for _ in range(hl):\n",
    "        model.add(Dense(hu, activation='relu'))\n",
    "    model.add(Dense(1, activation='sigmoid'))\n",
    "    model.compile(loss='binary_crossentropy',\n",
    "                  optimizer=optimizer,\n",
    "                  metrics=['accuracy'])\n",
    "    return model"
   ]
  },
  {
   "cell_type": "code",
   "execution_count": 32,
   "metadata": {},
   "outputs": [],
   "source": [
    "set_seeds()\n",
    "model = create_model(hl=1, hu=128)"
   ]
  },
  {
   "cell_type": "code",
   "execution_count": 33,
   "metadata": {},
   "outputs": [
    {
     "name": "stdout",
     "output_type": "stream",
     "text": [
      "Wall time: 7.13 s\n"
     ]
    },
    {
     "data": {
      "text/plain": [
       "<keras.callbacks.History at 0x226818a5340>"
      ]
     },
     "execution_count": 33,
     "metadata": {},
     "output_type": "execute_result"
    }
   ],
   "source": [
    "%%time\n",
    "model.fit(data[cols], data['d'], epochs=50,\n",
    "          verbose=False, class_weight=cw(data))"
   ]
  },
  {
   "cell_type": "code",
   "execution_count": 34,
   "metadata": {},
   "outputs": [
    {
     "name": "stdout",
     "output_type": "stream",
     "text": [
      "69/69 [==============================] - 0s 2ms/step - loss: 0.5945 - accuracy: 0.6015\n"
     ]
    },
    {
     "data": {
      "text/plain": [
       "[0.5945016741752625, 0.6014658808708191]"
      ]
     },
     "execution_count": 34,
     "metadata": {},
     "output_type": "execute_result"
    }
   ],
   "source": [
    "model.evaluate(data[cols], data['d'])"
   ]
  },
  {
   "cell_type": "code",
   "execution_count": 35,
   "metadata": {},
   "outputs": [],
   "source": [
    "data['p'] = np.where(model.predict(data[cols]) > 0.5, 1, 0)"
   ]
  },
  {
   "cell_type": "code",
   "execution_count": 36,
   "metadata": {},
   "outputs": [
    {
     "data": {
      "text/plain": [
       "1    1410\n",
       "0     773\n",
       "Name: p, dtype: int64"
      ]
     },
     "execution_count": 36,
     "metadata": {},
     "output_type": "execute_result"
    }
   ],
   "source": [
    "data['p'].value_counts()"
   ]
  },
  {
   "cell_type": "code",
   "execution_count": 37,
   "metadata": {},
   "outputs": [],
   "source": [
    "split = int(len(data) * 0.8)"
   ]
  },
  {
   "cell_type": "code",
   "execution_count": 38,
   "metadata": {},
   "outputs": [],
   "source": [
    "train = data.iloc[:split].copy()"
   ]
  },
  {
   "cell_type": "code",
   "execution_count": 39,
   "metadata": {},
   "outputs": [],
   "source": [
    "test = data.iloc[split:].copy()"
   ]
  },
  {
   "cell_type": "code",
   "execution_count": 40,
   "metadata": {},
   "outputs": [],
   "source": [
    "set_seeds()\n",
    "model = create_model(hl=1, hu=128)"
   ]
  },
  {
   "cell_type": "code",
   "execution_count": 41,
   "metadata": {},
   "outputs": [
    {
     "name": "stdout",
     "output_type": "stream",
     "text": [
      "Wall time: 6.57 s\n"
     ]
    }
   ],
   "source": [
    "%%time \n",
    "h = model.fit(train[cols], train['d'],\n",
    "          epochs=50, verbose=False,\n",
    "          validation_split=0.2, shuffle=False,\n",
    "          class_weight=cw(train))"
   ]
  },
  {
   "cell_type": "code",
   "execution_count": 42,
   "metadata": {},
   "outputs": [
    {
     "name": "stdout",
     "output_type": "stream",
     "text": [
      "55/55 [==============================] - 0s 2ms/step - loss: 0.6096 - accuracy: 0.5934\n"
     ]
    },
    {
     "data": {
      "text/plain": [
       "[0.6096417903900146, 0.5933562517166138]"
      ]
     },
     "execution_count": 42,
     "metadata": {},
     "output_type": "execute_result"
    }
   ],
   "source": [
    "model.evaluate(train[cols], train['d'])"
   ]
  },
  {
   "cell_type": "code",
   "execution_count": 43,
   "metadata": {},
   "outputs": [
    {
     "name": "stdout",
     "output_type": "stream",
     "text": [
      "14/14 [==============================] - 0s 2ms/step - loss: 0.5931 - accuracy: 0.6133\n"
     ]
    },
    {
     "data": {
      "text/plain": [
       "[0.5931045413017273, 0.6132723093032837]"
      ]
     },
     "execution_count": 43,
     "metadata": {},
     "output_type": "execute_result"
    }
   ],
   "source": [
    "model.evaluate(test[cols], test['d'])"
   ]
  },
  {
   "cell_type": "code",
   "execution_count": 44,
   "metadata": {},
   "outputs": [],
   "source": [
    "test['p'] = np.where(model.predict(test[cols]) > 0.5, 1, 0)"
   ]
  },
  {
   "cell_type": "code",
   "execution_count": 45,
   "metadata": {},
   "outputs": [
    {
     "data": {
      "text/plain": [
       "1    284\n",
       "0    153\n",
       "Name: p, dtype: int64"
      ]
     },
     "execution_count": 45,
     "metadata": {},
     "output_type": "execute_result"
    }
   ],
   "source": [
    "test['p'].value_counts()"
   ]
  },
  {
   "cell_type": "code",
   "execution_count": 46,
   "metadata": {},
   "outputs": [],
   "source": [
    "res = pd.DataFrame(h.history)"
   ]
  },
  {
   "cell_type": "code",
   "execution_count": 47,
   "metadata": {},
   "outputs": [
    {
     "data": {
      "image/png": "[encoded data removed]",
      "text/plain": [
       "<Figure size 720x432 with 1 Axes>"
      ]
     },
     "metadata": {},
     "output_type": "display_data"
    }
   ],
   "source": [
    "res[['accuracy', 'val_accuracy']].plot(figsize=(10, 6), style='--');"
   ]
  },
  {
   "cell_type": "markdown",
   "metadata": {},
   "source": [
    "## Normalization"
   ]
  },
  {
   "cell_type": "code",
   "execution_count": 48,
   "metadata": {},
   "outputs": [],
   "source": [
    "mu, std = train.mean(), train.std()"
   ]
  },
  {
   "cell_type": "code",
   "execution_count": 49,
   "metadata": {},
   "outputs": [],
   "source": [
    "train_ = (train - mu) / std"
   ]
  },
  {
   "cell_type": "code",
   "execution_count": 50,
   "metadata": {},
   "outputs": [],
   "source": [
    "# train_.std().round(3)"
   ]
  },
  {
   "cell_type": "code",
   "execution_count": 51,
   "metadata": {},
   "outputs": [],
   "source": [
    "set_seeds()\n",
    "model = create_model(hl=2, hu=128)"
   ]
  },
  {
   "cell_type": "code",
   "execution_count": 52,
   "metadata": {},
   "outputs": [
    {
     "name": "stdout",
     "output_type": "stream",
     "text": [
      "Wall time: 6.67 s\n"
     ]
    }
   ],
   "source": [
    "%%time \n",
    "h = model.fit(train_[cols], train['d'],\n",
    "          epochs=50, verbose=False,\n",
    "          validation_split=0.2, shuffle=False,\n",
    "          class_weight=cw(train))"
   ]
  },
  {
   "cell_type": "code",
   "execution_count": 53,
   "metadata": {},
   "outputs": [
    {
     "name": "stdout",
     "output_type": "stream",
     "text": [
      "55/55 [==============================] - 0s 2ms/step - loss: 0.4277 - accuracy: 0.9170\n"
     ]
    },
    {
     "data": {
      "text/plain": [
       "[0.4276737868785858, 0.9169530272483826]"
      ]
     },
     "execution_count": 53,
     "metadata": {},
     "output_type": "execute_result"
    }
   ],
   "source": [
    "model.evaluate(train_[cols], train['d'])"
   ]
  },
  {
   "cell_type": "code",
   "execution_count": 54,
   "metadata": {},
   "outputs": [],
   "source": [
    "test_ = (test - mu) / std"
   ]
  },
  {
   "cell_type": "code",
   "execution_count": 55,
   "metadata": {},
   "outputs": [
    {
     "name": "stdout",
     "output_type": "stream",
     "text": [
      "14/14 [==============================] - 0s 2ms/step - loss: 1.4907 - accuracy: 0.6705\n"
     ]
    },
    {
     "data": {
      "text/plain": [
       "[1.4907170534133911, 0.6704805493354797]"
      ]
     },
     "execution_count": 55,
     "metadata": {},
     "output_type": "execute_result"
    }
   ],
   "source": [
    "model.evaluate(test_[cols], test['d'])"
   ]
  },
  {
   "cell_type": "code",
   "execution_count": 56,
   "metadata": {},
   "outputs": [],
   "source": [
    "test['p'] = np.where(model.predict(test_[cols]) > 0.5, 1, 0)"
   ]
  },
  {
   "cell_type": "code",
   "execution_count": 57,
   "metadata": {},
   "outputs": [
    {
     "data": {
      "text/plain": [
       "0    310\n",
       "1    127\n",
       "Name: p, dtype: int64"
      ]
     },
     "execution_count": 57,
     "metadata": {},
     "output_type": "execute_result"
    }
   ],
   "source": [
    "test['p'].value_counts()"
   ]
  },
  {
   "cell_type": "code",
   "execution_count": 58,
   "metadata": {},
   "outputs": [],
   "source": [
    "res = pd.DataFrame(h.history)"
   ]
  },
  {
   "cell_type": "code",
   "execution_count": 60,
   "metadata": {},
   "outputs": [
    {
     "data": {
      "image/png": "[encoded data removed]",
      "text/plain": [
       "<Figure size 720x432 with 1 Axes>"
      ]
     },
     "metadata": {},
     "output_type": "display_data"
    }
   ],
   "source": [
    "res[['accuracy', 'val_accuracy']].plot(figsize=(10, 6), style='--');\n",
    "\n",
    "# We can see that trtaining accuracy increases to impressive levels but validation accuracy stagnates around 65-67%\n",
    "# That is even pretty high"
   ]
  },
  {
   "cell_type": "markdown",
   "metadata": {},
   "source": [
    "## Dropout "
   ]
  },
  {
   "cell_type": "code",
   "execution_count": 61,
   "metadata": {},
   "outputs": [],
   "source": [
    "from keras.layers import Dropout"
   ]
  },
  {
   "cell_type": "code",
   "execution_count": 62,
   "metadata": {},
   "outputs": [],
   "source": [
    "def create_model(hl=1, hu=128, dropout=True, rate=0.3,\n",
    "                 optimizer=optimizer):\n",
    "    model = Sequential()\n",
    "    model.add(Dense(hu, input_dim=len(cols),\n",
    "                    activation='relu'))\n",
    "    if dropout:\n",
    "        model.add(Dropout(rate, seed=100))\n",
    "    for _ in range(hl):\n",
    "        model.add(Dense(hu, activation='relu'))\n",
    "        if dropout:\n",
    "            model.add(Dropout(rate, seed=100))\n",
    "    model.add(Dense(1, activation='sigmoid'))\n",
    "    model.compile(loss='binary_crossentropy', optimizer=optimizer,\n",
    "                 metrics=['accuracy'])\n",
    "    return model"
   ]
  },
  {
   "cell_type": "code",
   "execution_count": 63,
   "metadata": {},
   "outputs": [],
   "source": [
    "set_seeds()\n",
    "model = create_model(hl=1, hu=128, rate=0.3)"
   ]
  },
  {
   "cell_type": "code",
   "execution_count": 64,
   "metadata": {},
   "outputs": [
    {
     "name": "stdout",
     "output_type": "stream",
     "text": [
      "Wall time: 8.18 s\n"
     ]
    }
   ],
   "source": [
    "%%time \n",
    "h = model.fit(train_[cols], train['d'],\n",
    "          epochs=50, verbose=False,\n",
    "          validation_split=0.15, shuffle=False,\n",
    "          class_weight=cw(train))"
   ]
  },
  {
   "cell_type": "code",
   "execution_count": 65,
   "metadata": {},
   "outputs": [
    {
     "name": "stdout",
     "output_type": "stream",
     "text": [
      "55/55 [==============================] - 0s 2ms/step - loss: 0.4452 - accuracy: 0.7732\n"
     ]
    },
    {
     "data": {
      "text/plain": [
       "[0.4451799690723419, 0.7731958627700806]"
      ]
     },
     "execution_count": 65,
     "metadata": {},
     "output_type": "execute_result"
    }
   ],
   "source": [
    "model.evaluate(train_[cols], train['d'])"
   ]
  },
  {
   "cell_type": "code",
   "execution_count": 66,
   "metadata": {},
   "outputs": [
    {
     "name": "stdout",
     "output_type": "stream",
     "text": [
      "14/14 [==============================] - 0s 2ms/step - loss: 0.5794 - accuracy: 0.6430\n"
     ]
    },
    {
     "data": {
      "text/plain": [
       "[0.5794059634208679, 0.6430205702781677]"
      ]
     },
     "execution_count": 66,
     "metadata": {},
     "output_type": "execute_result"
    }
   ],
   "source": [
    "model.evaluate(test_[cols], test['d'])"
   ]
  },
  {
   "cell_type": "code",
   "execution_count": 67,
   "metadata": {},
   "outputs": [],
   "source": [
    "res = pd.DataFrame(h.history)"
   ]
  },
  {
   "cell_type": "code",
   "execution_count": 68,
   "metadata": {},
   "outputs": [
    {
     "data": {
      "image/png": "[encoded data removed]",
      "text/plain": [
       "<Figure size 720x432 with 1 Axes>"
      ]
     },
     "metadata": {},
     "output_type": "display_data"
    }
   ],
   "source": [
    "res[['accuracy', 'val_accuracy']].plot(figsize=(10, 6), style='--');"
   ]
  },
  {
   "cell_type": "markdown",
   "metadata": {},
   "source": [
    "## Regularization "
   ]
  },
  {
   "cell_type": "code",
   "execution_count": 69,
   "metadata": {},
   "outputs": [],
   "source": [
    "from keras.regularizers import l1, l2"
   ]
  },
  {
   "cell_type": "code",
   "execution_count": 70,
   "metadata": {},
   "outputs": [],
   "source": [
    "def create_model(hl=1, hu=128, dropout=False, rate=0.3, \n",
    "                 regularize=False, reg=l1(0.0005),\n",
    "                 optimizer=optimizer, input_dim=len(cols)):\n",
    "    if not regularize:\n",
    "        reg = None\n",
    "    model = Sequential()\n",
    "    model.add(Dense(hu, input_dim=input_dim,\n",
    "                    activity_regularizer=reg,\n",
    "                    activation='relu'))\n",
    "    if dropout:\n",
    "        model.add(Dropout(rate, seed=100))\n",
    "    for _ in range(hl):\n",
    "        model.add(Dense(hu, activation='relu',\n",
    "                        activity_regularizer=reg))\n",
    "        if dropout:\n",
    "            model.add(Dropout(rate, seed=100))\n",
    "    model.add(Dense(1, activation='sigmoid'))\n",
    "    model.compile(loss='binary_crossentropy', optimizer=optimizer,\n",
    "                 metrics=['accuracy'])\n",
    "    return model"
   ]
  },
  {
   "cell_type": "code",
   "execution_count": 71,
   "metadata": {},
   "outputs": [],
   "source": [
    "set_seeds()\n",
    "model = create_model(hl=1, hu=128, regularize=True)"
   ]
  },
  {
   "cell_type": "code",
   "execution_count": 72,
   "metadata": {},
   "outputs": [
    {
     "name": "stdout",
     "output_type": "stream",
     "text": [
      "Wall time: 7.05 s\n"
     ]
    }
   ],
   "source": [
    "%%time \n",
    "h = model.fit(train_[cols], train['d'],\n",
    "          epochs=50, verbose=False,\n",
    "          validation_split=0.2, shuffle=False,\n",
    "          class_weight=cw(train))"
   ]
  },
  {
   "cell_type": "code",
   "execution_count": 73,
   "metadata": {},
   "outputs": [
    {
     "name": "stdout",
     "output_type": "stream",
     "text": [
      "55/55 [==============================] - 0s 2ms/step - loss: 0.3618 - accuracy: 0.9032\n"
     ]
    },
    {
     "data": {
      "text/plain": [
       "[0.36178624629974365, 0.9032073020935059]"
      ]
     },
     "execution_count": 73,
     "metadata": {},
     "output_type": "execute_result"
    }
   ],
   "source": [
    "model.evaluate(train_[cols], train['d'])"
   ]
  },
  {
   "cell_type": "code",
   "execution_count": 76,
   "metadata": {},
   "outputs": [
    {
     "name": "stdout",
     "output_type": "stream",
     "text": [
      "14/14 [==============================] - 0s 2ms/step - loss: 0.8782 - accuracy: 0.6590\n"
     ]
    },
    {
     "data": {
      "text/plain": [
       "[0.8782317638397217, 0.6590389013290405]"
      ]
     },
     "execution_count": 76,
     "metadata": {},
     "output_type": "execute_result"
    }
   ],
   "source": [
    "model.evaluate(test_[cols], test['d'])"
   ]
  },
  {
   "cell_type": "code",
   "execution_count": 77,
   "metadata": {},
   "outputs": [],
   "source": [
    "res = pd.DataFrame(h.history)"
   ]
  },
  {
   "cell_type": "code",
   "execution_count": 78,
   "metadata": {},
   "outputs": [
    {
     "data": {
      "image/png": "[encoded data removed]",
      "text/plain": [
       "<Figure size 720x432 with 1 Axes>"
      ]
     },
     "metadata": {},
     "output_type": "display_data"
    }
   ],
   "source": [
    "res[['accuracy', 'val_accuracy']].plot(figsize=(10, 6), style='--');"
   ]
  },
  {
   "cell_type": "code",
   "execution_count": 79,
   "metadata": {},
   "outputs": [],
   "source": [
    "set_seeds()\n",
    "h = model = create_model(hl=2, hu=128,\n",
    "                     dropout=True, rate=0.3,\n",
    "                     regularize=True, reg=l2(0.001),\n",
    "                    )"
   ]
  },
  {
   "cell_type": "code",
   "execution_count": 80,
   "metadata": {},
   "outputs": [
    {
     "name": "stdout",
     "output_type": "stream",
     "text": [
      "Wall time: 8.95 s\n"
     ]
    }
   ],
   "source": [
    "%%time \n",
    "h = model.fit(train_[cols], train['d'],\n",
    "          epochs=50, verbose=False,\n",
    "          validation_split=0.2, shuffle=False,\n",
    "          class_weight=cw(train))"
   ]
  },
  {
   "cell_type": "code",
   "execution_count": 81,
   "metadata": {},
   "outputs": [
    {
     "name": "stdout",
     "output_type": "stream",
     "text": [
      "55/55 [==============================] - 0s 2ms/step - loss: 0.4672 - accuracy: 0.7789\n"
     ]
    },
    {
     "data": {
      "text/plain": [
       "[0.4671570360660553, 0.7789232730865479]"
      ]
     },
     "execution_count": 81,
     "metadata": {},
     "output_type": "execute_result"
    }
   ],
   "source": [
    "model.evaluate(train_[cols], train['d'])"
   ]
  },
  {
   "cell_type": "code",
   "execution_count": 82,
   "metadata": {},
   "outputs": [
    {
     "name": "stdout",
     "output_type": "stream",
     "text": [
      "14/14 [==============================] - 0s 2ms/step - loss: 0.6519 - accuracy: 0.6568\n"
     ]
    },
    {
     "data": {
      "text/plain": [
       "[0.6518753170967102, 0.6567505598068237]"
      ]
     },
     "execution_count": 82,
     "metadata": {},
     "output_type": "execute_result"
    }
   ],
   "source": [
    "model.evaluate(test_[cols], test['d'])"
   ]
  },
  {
   "cell_type": "code",
   "execution_count": 83,
   "metadata": {},
   "outputs": [],
   "source": [
    "res = pd.DataFrame(h.history)"
   ]
  },
  {
   "cell_type": "code",
   "execution_count": 84,
   "metadata": {},
   "outputs": [
    {
     "data": {
      "image/png": "[encoded data removed]",
      "text/plain": [
       "<Figure size 720x432 with 1 Axes>"
      ]
     },
     "metadata": {},
     "output_type": "display_data"
    }
   ],
   "source": [
    "res[['accuracy', 'val_accuracy']].plot(figsize=(10, 6), style='--');"
   ]
  },
  {
   "cell_type": "code",
   "execution_count": 85,
   "metadata": {},
   "outputs": [
    {
     "data": {
      "text/plain": [
       "0.08685526371002195"
      ]
     },
     "execution_count": 85,
     "metadata": {},
     "output_type": "execute_result"
    }
   ],
   "source": [
    "res.mean()['accuracy'] - res.mean()['val_accuracy']"
   ]
  },
  {
   "cell_type": "markdown",
   "metadata": {},
   "source": [
    "## Bagging"
   ]
  },
  {
   "cell_type": "code",
   "execution_count": 86,
   "metadata": {},
   "outputs": [],
   "source": [
    "from sklearn.ensemble import BaggingClassifier\n",
    "from keras.wrappers.scikit_learn import KerasClassifier"
   ]
  },
  {
   "cell_type": "code",
   "execution_count": 87,
   "metadata": {},
   "outputs": [
    {
     "data": {
      "text/plain": [
       "40"
      ]
     },
     "execution_count": 87,
     "metadata": {},
     "output_type": "execute_result"
    }
   ],
   "source": [
    "len(cols)"
   ]
  },
  {
   "cell_type": "code",
   "execution_count": 88,
   "metadata": {},
   "outputs": [],
   "source": [
    "max_features = 0.75"
   ]
  },
  {
   "cell_type": "code",
   "execution_count": 89,
   "metadata": {},
   "outputs": [
    {
     "name": "stderr",
     "output_type": "stream",
     "text": [
      "<ipython-input-89-3b017fc0cf1a>:2: DeprecationWarning: KerasClassifier is deprecated, use Sci-Keras (https://github.com/adriangb/scikeras) instead.\n",
      "  base_estimator = KerasClassifier(build_fn=create_model,\n"
     ]
    }
   ],
   "source": [
    "set_seeds()\n",
    "base_estimator = KerasClassifier(build_fn=create_model,\n",
    "                        verbose=False, epochs=20, hl=1, hu=128,\n",
    "                        dropout=True, regularize=False,\n",
    "                        input_dim=int(len(cols) * max_features))"
   ]
  },
  {
   "cell_type": "code",
   "execution_count": 90,
   "metadata": {},
   "outputs": [],
   "source": [
    "model_bag = BaggingClassifier(base_estimator=base_estimator,\n",
    "                          n_estimators=15,\n",
    "                          max_samples=0.75,\n",
    "                          max_features=max_features,\n",
    "                          bootstrap=True,\n",
    "                          bootstrap_features=True,\n",
    "                          n_jobs=1,\n",
    "                          random_state=100,\n",
    "                         )"
   ]
  },
  {
   "cell_type": "code",
   "execution_count": 91,
   "metadata": {},
   "outputs": [
    {
     "name": "stdout",
     "output_type": "stream",
     "text": [
      "Wall time: 34.7 s\n"
     ]
    },
    {
     "data": {
      "text/plain": [
       "BaggingClassifier(base_estimator=<keras.wrappers.scikit_learn.KerasClassifier object at 0x0000022687702490>,\n",
       "                  bootstrap_features=True, max_features=0.75, max_samples=0.75,\n",
       "                  n_estimators=15, n_jobs=1, random_state=100)"
      ]
     },
     "execution_count": 91,
     "metadata": {},
     "output_type": "execute_result"
    }
   ],
   "source": [
    "%time model_bag.fit(train_[cols], train['d'])"
   ]
  },
  {
   "cell_type": "code",
   "execution_count": 92,
   "metadata": {},
   "outputs": [
    {
     "data": {
      "text/plain": [
       "0.7623138602520045"
      ]
     },
     "execution_count": 92,
     "metadata": {},
     "output_type": "execute_result"
    }
   ],
   "source": [
    "model_bag.score(train_[cols], train['d'])"
   ]
  },
  {
   "cell_type": "code",
   "execution_count": 96,
   "metadata": {},
   "outputs": [
    {
     "data": {
      "text/plain": [
       "0.6636155606407322"
      ]
     },
     "execution_count": 96,
     "metadata": {},
     "output_type": "execute_result"
    }
   ],
   "source": [
    "model_bag.score(test_[cols], test['d'])\n",
    "#High values due to class imbalance as seen from below"
   ]
  },
  {
   "cell_type": "code",
   "execution_count": 94,
   "metadata": {},
   "outputs": [],
   "source": [
    "test['p'] = model_bag.predict(test_[cols])"
   ]
  },
  {
   "cell_type": "code",
   "execution_count": 95,
   "metadata": {},
   "outputs": [
    {
     "data": {
      "text/plain": [
       "0    381\n",
       "1     56\n",
       "Name: p, dtype: int64"
      ]
     },
     "execution_count": 95,
     "metadata": {},
     "output_type": "execute_result"
    }
   ],
   "source": [
    "test['p'].value_counts()"
   ]
  },
  {
   "cell_type": "markdown",
   "metadata": {},
   "source": [
    "## Optimizers"
   ]
  },
  {
   "cell_type": "code",
   "execution_count": 97,
   "metadata": {},
   "outputs": [],
   "source": [
    "import time"
   ]
  },
  {
   "cell_type": "code",
   "execution_count": 98,
   "metadata": {},
   "outputs": [],
   "source": [
    "optimizers = ['sgd', 'rmsprop', 'adagrad', 'adadelta',\n",
    "              'adam', 'adamax', 'nadam']"
   ]
  },
  {
   "cell_type": "code",
   "execution_count": 99,
   "metadata": {},
   "outputs": [
    {
     "name": "stdout",
     "output_type": "stream",
     "text": [
      "sgd        | time[s]: 7.4238 | in-sample=0.6077 | out-of-sample=0.6499\n",
      "rmsprop    | time[s]: 7.3161 | in-sample=0.7176 | out-of-sample=0.6293\n",
      "adagrad    | time[s]: 7.1989 | in-sample=0.5630 | out-of-sample=0.6293\n",
      "adadelta   | time[s]: 7.6251 | in-sample=0.6438 | out-of-sample=0.6545\n",
      "adam       | time[s]: 7.4706 | in-sample=0.6982 | out-of-sample=0.6453\n",
      "adamax     | time[s]: 6.9589 | in-sample=0.6357 | out-of-sample=0.6613\n",
      "nadam      | time[s]: 7.7990 | in-sample=0.7423 | out-of-sample=0.6430\n",
      "Wall time: 53.9 s\n"
     ]
    }
   ],
   "source": [
    "%%time\n",
    "for optimizer in optimizers:\n",
    "    set_seeds()\n",
    "    model = create_model(hl=1, hu=128,\n",
    "                     dropout=True, rate=0.3,\n",
    "                     regularize=False, reg=l2(0.001),\n",
    "                     optimizer=optimizer\n",
    "                    )\n",
    "    t0 = time.time()\n",
    "    model.fit(train_[cols], train['d'],\n",
    "              epochs=50, verbose=False,\n",
    "              validation_split=0.2, shuffle=False,\n",
    "              class_weight=cw(train))\n",
    "    t1 = time.time()\n",
    "    t = t1 - t0\n",
    "    acc_tr = model.evaluate(train_[cols], train['d'], verbose=False)[1]\n",
    "    acc_te = model.evaluate(test_[cols], test['d'], verbose=False)[1]\n",
    "    out = f'{optimizer:10s} | time[s]: {t:.4f} | in-sample={acc_tr:.4f}'\n",
    "    out += f' | out-of-sample={acc_te:.4f}'\n",
    "    print(out)"
   ]
  },
  {
   "cell_type": "code",
   "execution_count": 100,
   "metadata": {},
   "outputs": [],
   "source": [
    "test['p'] = np.where(model.predict(test_[cols]) > 0.5, 1, 0)"
   ]
  },
  {
   "cell_type": "code",
   "execution_count": 101,
   "metadata": {},
   "outputs": [
    {
     "data": {
      "text/plain": [
       "0    242\n",
       "1    195\n",
       "Name: p, dtype: int64"
      ]
     },
     "execution_count": 101,
     "metadata": {},
     "output_type": "execute_result"
    }
   ],
   "source": [
    "test['p'].value_counts()"
   ]
  },
  {
   "cell_type": "code",
   "execution_count": 102,
   "metadata": {},
   "outputs": [
    {
     "data": {
      "text/plain": [
       "0.6430205949656751"
      ]
     },
     "execution_count": 102,
     "metadata": {},
     "output_type": "execute_result"
    }
   ],
   "source": [
    "accuracy_score(test['p'], test['d'])"
   ]
  },
  {
   "cell_type": "markdown",
   "metadata": {},
   "source": [
    "<img src='http://hilpisch.com/taim_logo.png' width=\"350px\" align=\"right\">\n",
    "\n",
    "<br><br><br><a href=\"http://tpq.io\" target=\"_blank\">http://tpq.io</a> | <a href=\"http://twitter.com/dyjh\" target=\"_blank\">@dyjh</a> | <a href=\"mailto:ai@tpq.io\">ai@tpq.io</a>"
   ]
  }
 ],
 "metadata": {
  "kernelspec": {
   "display_name": "Python 3",
   "language": "python",
   "name": "python3"
  },
  "language_info": {
   "codemirror_mode": {
    "name": "ipython",
    "version": 3
   },
   "file_extension": ".py",
   "mimetype": "text/x-python",
   "name": "python",
   "nbconvert_exporter": "python",
   "pygments_lexer": "ipython3",
   "version": "3.8.5"
  }
 },
 "nbformat": 4,
 "nbformat_minor": 4
}

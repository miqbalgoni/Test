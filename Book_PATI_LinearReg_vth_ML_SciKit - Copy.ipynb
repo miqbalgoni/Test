{
 "cells": [
  {
   "cell_type": "code",
   "execution_count": null,
   "metadata": {},
   "outputs": [],
   "source": [
    "# Page 139 of Python for Algorithmic Trading from idea to cloud deployment \n",
    "# Machine Learning\n",
    "# Linear Regression\n",
    "# SciKit Learn "
   ]
  },
  {
   "cell_type": "code",
   "execution_count": 1,
   "metadata": {},
   "outputs": [],
   "source": [
    "import numpy as np\n",
    "import pandas as pd\n",
    "\n"
   ]
  },
  {
   "cell_type": "code",
   "execution_count": 2,
   "metadata": {},
   "outputs": [
    {
     "data": {
      "text/plain": [
       "array([ 0,  1,  2,  3,  4,  5,  6,  7,  8,  9, 10, 11])"
      ]
     },
     "execution_count": 2,
     "metadata": {},
     "output_type": "execute_result"
    }
   ],
   "source": [
    "x = np.arange(12)\n",
    "x"
   ]
  },
  {
   "cell_type": "code",
   "execution_count": 4,
   "metadata": {},
   "outputs": [
    {
     "data": {
      "text/plain": [
       "array([[ 0.,  1.,  2.,  3.,  4.,  5.,  6.,  7.,  8.],\n",
       "       [ 1.,  2.,  3.,  4.,  5.,  6.,  7.,  8.,  9.],\n",
       "       [ 2.,  3.,  4.,  5.,  6.,  7.,  8.,  9., 10.],\n",
       "       [ 3.,  4.,  5.,  6.,  7.,  8.,  9., 10., 11.]])"
      ]
     },
     "execution_count": 4,
     "metadata": {},
     "output_type": "execute_result"
    }
   ],
   "source": [
    "lags = 3\n",
    "\n",
    "m = np.zeros((lags+1, len(x)-lags))\n",
    "m[lags] = x[lags:] \n",
    "for i in range(lags):\n",
    "    m[i] = x[i:i - lags]\n",
    "\n",
    "m    # Creating the matrix for Preduction\n",
    "    # first 3 rows of this are independent variables & 4th is the result data we already have. \n",
    "    # We will check our result by comparing with this 4th column"
   ]
  },
  {
   "cell_type": "markdown",
   "metadata": {},
   "source": [
    "# Now using SciKit Learn to do some Machine Learning for first time InshaAllah"
   ]
  },
  {
   "cell_type": "code",
   "execution_count": 7,
   "metadata": {},
   "outputs": [],
   "source": [
    "from sklearn import linear_model"
   ]
  },
  {
   "cell_type": "code",
   "execution_count": 12,
   "metadata": {},
   "outputs": [
    {
     "name": "stdout",
     "output_type": "stream",
     "text": [
      "[0.33333333 0.33333333 0.33333333]\n",
      "2.0000000000000018\n",
      "[ 3.  4.  5.  6.  7.  8.  9. 10. 11.]\n"
     ]
    }
   ],
   "source": [
    "lm = linear_model.LinearRegression()  # Instantiate the Model LR\n",
    "lm.fit(m[:lags].T, m[lags])       # Fit the data in it. In our case, Transpose of our base matric done thus rending Col = Rows \n",
    "\n",
    "print(lm.coef_)                 # Cofficients\n",
    "print(lm.intercept_)\n",
    "\n",
    "print(lm.predict(m[:lags].T)) # Running the Model to do and split Predictions of Linear Regression\n"
   ]
  },
  {
   "cell_type": "markdown",
   "metadata": {},
   "source": [
    "# Setting the parameter fit_intercept to False gives the exact same regression results as with NumPy and polyfit():"
   ]
  },
  {
   "cell_type": "code",
   "execution_count": 13,
   "metadata": {},
   "outputs": [
    {
     "data": {
      "text/plain": [
       "LinearRegression(fit_intercept=False)"
      ]
     },
     "execution_count": 13,
     "metadata": {},
     "output_type": "execute_result"
    }
   ],
   "source": [
    "lm = linear_model.LinearRegression(fit_intercept=False)\n",
    "lm.fit(m[:lags].T, m[lags])\n"
   ]
  },
  {
   "cell_type": "code",
   "execution_count": 15,
   "metadata": {},
   "outputs": [
    {
     "name": "stdout",
     "output_type": "stream",
     "text": [
      "[-0.66666667  0.33333333  1.33333333]\n",
      "0.0\n",
      "[ 3.  4.  5.  6.  7.  8.  9. 10. 11.]\n"
     ]
    }
   ],
   "source": [
    "print(lm.coef_)\n",
    "print(lm.intercept_)\n",
    "print(lm.predict(m[:lags].T))\n"
   ]
  },
  {
   "cell_type": "code",
   "execution_count": null,
   "metadata": {},
   "outputs": [],
   "source": []
  }
 ],
 "metadata": {
  "kernelspec": {
   "display_name": "Python 3",
   "language": "python",
   "name": "python3"
  },
  "language_info": {
   "codemirror_mode": {
    "name": "ipython",
    "version": 3
   },
   "file_extension": ".py",
   "mimetype": "text/x-python",
   "name": "python",
   "nbconvert_exporter": "python",
   "pygments_lexer": "ipython3",
   "version": "3.8.5"
  }
 },
 "nbformat": 4,
 "nbformat_minor": 4
}
